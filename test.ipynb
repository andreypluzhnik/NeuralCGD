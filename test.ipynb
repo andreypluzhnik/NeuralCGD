{
 "cells": [
  {
   "cell_type": "code",
   "execution_count": 8,
   "metadata": {},
   "outputs": [],
   "source": [
    "import torch\n",
    "from torch import nn\n",
    "from vector_dataset import *\n",
    "import scipy.sparse\n",
    "import numpy as np\n",
    "import torchsummary\n",
    "\n",
    "from torch.utils.data import DataLoader\n",
    "from torch.utils.data import Dataset\n",
    "from torchvision.transforms import ToTensor\n",
    "\n",
    "from torch.utils.tensorboard import SummaryWriter"
   ]
  },
  {
   "cell_type": "code",
   "execution_count": 9,
   "metadata": {},
   "outputs": [],
   "source": [
    "def init_zeros(m):\n",
    "    if isinstance(m, nn.Conv3d):\n",
    "        m.weight.data.fill_(0)\n",
    "\n",
    "def init_weights(m):\n",
    "    if isinstance(m, nn.Linear):\n",
    "        torch.nn.init.xavier_uniform_(m.weight)\n",
    "        m.bias.data.fill_(0)\n",
    "\n",
    "class ResidualBlock(nn.Module):\n",
    "    def __init__(self, depth):\n",
    "        super(ResidualBlock, self).__init__()\n",
    "        self.x_layer = nn.Conv3d(in_channels = depth, out_channels = depth, kernel_size = (3,3,3), padding = \"same\", bias = False)   # no change\n",
    "        self.y_layer = nn.Conv3d(in_channels = depth, out_channels = depth, kernel_size = (3,3,3), padding = \"same\", bias = False)   # no change\n",
    "        self.relu = nn.ReLU(inplace = True)\n",
    "        \n",
    "        # self.x_layer.apply(init_zeros)\n",
    "        # self.y_layer.apply(init_zeros)\n",
    "    \n",
    "    def forward(self,x):\n",
    "        residual = x.clone()\n",
    "        x1 = self.relu(self.x_layer(x))\n",
    "        x2 = self.y_layer(x1)\n",
    "        out = self.relu(x2) + residual\n",
    "        return out\n",
    "\n",
    "\n",
    "\n",
    "\n",
    "class SimpleModel(nn.Module):\n",
    "   \n",
    "    def __init__(self, dim_x, dim_y, dim_z):\n",
    "        self.dim_x = dim_x\n",
    "        self.dim_y = dim_y\n",
    "        self.dim_z = dim_z\n",
    "        super(SimpleModel, self).__init__()\n",
    "        depth = 2\n",
    "        self.conv1 = nn.Sequential(\n",
    "           nn.Conv3d(in_channels = 1, out_channels = depth, kernel_size = (3,3,3), padding = \"same\"),\n",
    "           nn.Conv3d(in_channels = depth, out_channels = depth, kernel_size = (3,3,3), padding = \"same\"),\n",
    "           nn.ReLU(),\n",
    "           nn.Conv3d(in_channels = depth, out_channels = depth, kernel_size = (3,3,3), padding = \"same\"),\n",
    "           nn.ReLU(),\n",
    "           nn.Conv3d(in_channels = depth, out_channels = depth, kernel_size = (3,3,3), padding = \"same\"),\n",
    "           nn.ReLU(),\n",
    "           nn.Conv3d(in_channels = depth, out_channels = depth, kernel_size = (3,3,3), padding = \"same\"),\n",
    "           nn.ReLU(),\n",
    "           nn.Conv3d(in_channels = depth, out_channels = depth, kernel_size = (3,3,3), padding = \"same\"),\n",
    "           nn.ReLU(),\n",
    "           nn.Conv3d(in_channels = depth, out_channels = depth, kernel_size = (3,3,3), padding = \"same\"),\n",
    "           nn.ReLU(),\n",
    "           nn.Conv3d(in_channels = depth, out_channels = depth, kernel_size = (3,3,3), padding = \"same\"),\n",
    "           nn.ReLU())\n",
    "        \n",
    "\n",
    "    \n",
    "\n",
    "        self.fc_layer = nn.Linear(in_features = 4, out_features = 1)\n",
    "        self.out_layer = nn.Conv3d(in_channels = 4, out_channels = 1, kernel_size = (3,3,3), padding = \"same\")\n",
    "\n",
    "        self.conv1.apply(init_weights)\n",
    "        self.fc_layer.apply(init_weights)\n",
    "        \n",
    "    # feed through the convolutional layers\n",
    "    def forward(self, x):\n",
    "        x = self.conv1(x)\n",
    "        x = x.permute(0, 4, 2, 3, 1) \n",
    "        x = self.fc_layer(x)\n",
    "        x = x.permute(0, 4, 2, 3, 1) \n",
    "        x = x.reshape(x.size(0), 1, x.size(2) * x.size(3) * x.size(4))\n",
    "        # x = self.fc_layer(x)\n",
    "        # x6 = x5.view(-1, 1, x5.size(1) * x5.size(2) * x5.size(3) * x5.size(4))\n",
    "        # x7 = self.fc_layer(x6)\n",
    "        return x\n",
    "\n",
    "\n",
    "class CNN(nn.Module):\n",
    "\n",
    "    \n",
    "\n",
    "    def __init__(self, dim_x, dim_y, dim_z):\n",
    "        self.dim_x = dim_x\n",
    "        self.dim_y = dim_y\n",
    "        self.dim_z = dim_z\n",
    "        super(CNN, self).__init__()\n",
    "        self.depth = 16\n",
    "        self.conv1 = nn.Sequential(\n",
    "           nn.Conv3d(in_channels = 1, out_channels = self.depth, kernel_size = (3,3,3), padding = \"same\"),\n",
    "           ResidualBlock(self.depth),\n",
    "           ResidualBlock(self.depth))\n",
    "        \n",
    "\n",
    "        self.pool_layer = nn.AvgPool3d(kernel_size = (2,2,2), stride=(2,2,2))\n",
    "\n",
    "\n",
    "        self.conv2 = nn.Sequential(\n",
    "           ResidualBlock(self.depth),\n",
    "           ResidualBlock(self.depth),\n",
    "           ResidualBlock(self.depth),\n",
    "           ResidualBlock(self.depth),\n",
    "           ResidualBlock(self.depth))\n",
    "\n",
    "\n",
    "        self.upsample_layer = nn.Upsample(scale_factor = (2,2,2))\n",
    "        \n",
    "        self.conv3 = nn.Sequential(\n",
    "           ResidualBlock(self.depth),\n",
    "           ResidualBlock(self.depth),\n",
    "           ResidualBlock(self.depth))\n",
    "\n",
    "        self.fc_layer = nn.Linear(in_features = self.depth, out_features = 1)\n",
    "        self.out_layer = nn.Conv3d(in_channels = self.depth, out_channels = 1, kernel_size = (1, 1, 1), padding = \"same\")\n",
    "\n",
    "            \n",
    "    # feed through the convolutional layers\n",
    "    def forward(self, x):\n",
    "        xr = self.conv1(x).clone()\n",
    "        x = self.pool_layer(xr.clone())\n",
    "        x = self.conv2(x)\n",
    "        x = self.upsample_layer(x) + xr\n",
    "        x = self.conv3(x)\n",
    "        x = self.out_layer(x)\n",
    "    \n",
    "        return x"
   ]
  },
  {
   "cell_type": "code",
   "execution_count": 12,
   "metadata": {},
   "outputs": [],
   "source": [
    "dataset = VectorDataset()\n",
    "train_dataset, test_dataset = torch.utils.data.random_split(dataset, [0.95, 0.05]) \n",
    "train_dataloader = DataLoader(train_dataset, batch_size=1, num_workers=4, shuffle = True)"
   ]
  },
  {
   "cell_type": "code",
   "execution_count": 17,
   "metadata": {},
   "outputs": [],
   "source": [
    "X = next(iter(train_dataloader))\n",
    "X = X.view((1, 1, dim_x, dim_y, dim_z))"
   ]
  },
  {
   "cell_type": "code",
   "execution_count": 25,
   "metadata": {},
   "outputs": [],
   "source": [
    "dim_x, dim_y, dim_z = 8, 8, 8\n",
    "DEVICE = \"cuda\"\n",
    "\n",
    "\n",
    "models_dir = f\"./models/\"\n",
    "model_fn = f\"{dim_x}_{dim_y}_{dim_z}_grid_state_16_mod.pth\"\n",
    "model = CNN(dim_x, dim_y, dim_z).to(DEVICE, dtype = torch.float64)\n",
    "model.load_state_dict(torch.load(models_dir + model_fn, weights_only=False))\n",
    "\n",
    "writer = SummaryWriter(\"torchlogs/\")\n",
    "writer.add_graph(model, X.to(DEVICE, dtype = torch.float64))\n",
    "writer.close()"
   ]
  },
  {
   "cell_type": "code",
   "execution_count": null,
   "metadata": {},
   "outputs": [],
   "source": [
    "\n",
    "models_dir = f\"./models/\"\n",
    "model_fn = f\"{dim_x}_{dim_y}_{dim_z}_grid_state_16_mod.pth\"\n",
    "model = CNN(dim_x, dim_y, dim_z).to(DEVICE)\n",
    "model.load_state_dict(torch.load(models_dir + model_fn))\n",
    "\n",
    "input_names = [\"Residual\"]\n",
    "output_names = [\"New Search Direction\"]\n",
    "\n",
    "torch.onnx.export()\n"
   ]
  },
  {
   "cell_type": "code",
   "execution_count": 21,
   "metadata": {},
   "outputs": [
    {
     "data": {
      "text/plain": [
       "256"
      ]
     },
     "execution_count": 21,
     "metadata": {},
     "output_type": "execute_result"
    }
   ],
   "source": [
    "2 ** 8"
   ]
  },
  {
   "cell_type": "code",
   "execution_count": 86,
   "metadata": {},
   "outputs": [
    {
     "data": {
      "text/plain": [
       "tensor([[[[1., 1., 2., 2.],\n",
       "          [4., 4., 5., 5.]]]])"
      ]
     },
     "execution_count": 86,
     "metadata": {},
     "output_type": "execute_result"
    }
   ],
   "source": [
    "x = torch.tensor([[1., 2.], \n",
    "                  [4., 5.], \n",
    "                 ]) \n",
    "x = x.view(1,1,2,2) \n",
    "\n",
    "upsample_x = torch.nn.Upsample(scale_factor = (1,2))(x)\n",
    "upsample_x"
   ]
  },
  {
   "cell_type": "code",
   "execution_count": 6,
   "metadata": {},
   "outputs": [
    {
     "name": "stdout",
     "output_type": "stream",
     "text": [
      "Input Tensor Shape: torch.Size([1, 1, 2])\n",
      "Input Tensor: tensor([[[1., 2.]]])\n",
      "Upsample(scale_factor=2.0, mode='nearest') -->> tensor([[[1., 1., 2., 2.]]])\n",
      "Upsample(scale_factor=3.0, mode='nearest') -->> tensor([[[1., 1., 1., 2., 2., 2.]]])\n",
      "Upsample(scale_factor=2.0, mode='linear')  -->> tensor([[[1.0000, 1.2500, 1.7500, 2.0000]]])\n"
     ]
    }
   ],
   "source": [
    "\n",
    "\n",
    "#import the necessary library \n",
    "import torch \n",
    "  \n",
    "# define a tensor and view as a 3D tensor \n",
    "x = torch.tensor([1., 2.]) \n",
    "X = x.view(1,1,2) \n",
    "print(\"Input Tensor Shape:\",X.size()) \n",
    "print(\"Input Tensor:\",X) \n",
    "  \n",
    "# Upsample with scale_factor 2 and mode = nearest \n",
    "upsample1 = torch.nn.Upsample(scale_factor=2) \n",
    "output1 = upsample1(X) \n",
    "print(upsample1,'-->>', output1) \n",
    "  \n",
    "# # Upsample with scale_factor 3 and mode = nearest \n",
    "upsample2 = torch.nn.Upsample(scale_factor=3) \n",
    "output2 = upsample2(X) \n",
    "print(upsample2,'-->>', output2) \n",
    "  \n",
    "# Upsample with scale_factor 2 and mode = linear \n",
    "upsample3 = torch.nn.Upsample(scale_factor=2, mode='linear') \n",
    "output3 = upsample3(X) \n",
    "print(upsample3,' -->>', output3)\n"
   ]
  },
  {
   "cell_type": "code",
   "execution_count": 87,
   "metadata": {},
   "outputs": [
    {
     "data": {
      "text/plain": [
       "6.702420082269333"
      ]
     },
     "execution_count": 87,
     "metadata": {},
     "output_type": "execute_result"
    }
   ],
   "source": [
    "2 * np.log2(9) + np.log2(9/7)"
   ]
  },
  {
   "cell_type": "code",
   "execution_count": 88,
   "metadata": {},
   "outputs": [
    {
     "name": "stdout",
     "output_type": "stream",
     "text": [
      "<class 'torch.utils.data.dataset.Subset'>\n"
     ]
    }
   ],
   "source": [
    "dataset = VectorDataset()\n",
    "train, test = torch.utils.data.random_split(dataset, [0.7, 0.3], torch.Generator().manual_seed(999)) \n",
    "print(type(train))"
   ]
  },
  {
   "cell_type": "code",
   "execution_count": 89,
   "metadata": {},
   "outputs": [
    {
     "name": "stderr",
     "output_type": "stream",
     "text": [
      "/tmp/ipykernel_20826/3521309801.py:2: UserWarning: Sparse CSR tensor support is in beta state. If you miss a functionality in the sparse tensor support, please submit a feature request to https://github.com/pytorch/pytorch/issues. (Triggered internally at ../aten/src/ATen/SparseCsrTensorImpl.cpp:53.)\n",
      "  A = torch.sparse_coo_tensor(np.array([A.row, A.col]), A.data).to_sparse_csr()\n"
     ]
    }
   ],
   "source": [
    "A = scipy.sparse.load_npz(\"A_matrix.npz\")\n",
    "A = torch.sparse_coo_tensor(np.array([A.row, A.col]), A.data).to_sparse_csr()"
   ]
  },
  {
   "cell_type": "code",
   "execution_count": null,
   "metadata": {},
   "outputs": [
    {
     "data": {
      "text/plain": [
       "tensor(1.0000, dtype=torch.float64)"
      ]
     },
     "execution_count": 19,
     "metadata": {},
     "output_type": "execute_result"
    }
   ],
   "source": [
    "train_dataset, test_dataset = torch.utils.data.random_split(dataset, [0.8, 0.2], torch.Generator().manual_seed(999)) \n",
    "train_dataloader = torch.utils.data.DataLoader(train_dataset, batch_size=1, num_workers=4, shuffle = True)\n"
   ]
  },
  {
   "cell_type": "code",
   "execution_count": 23,
   "metadata": {},
   "outputs": [
    {
     "data": {
      "text/plain": [
       "torch.Size([1, 1, 4096])"
      ]
     },
     "execution_count": 23,
     "metadata": {},
     "output_type": "execute_result"
    }
   ],
   "source": [
    "v = next(iter(train_dataloader))\n",
    "v.shape"
   ]
  },
  {
   "cell_type": "code",
   "execution_count": 24,
   "metadata": {},
   "outputs": [
    {
     "data": {
      "text/plain": [
       "tensor([ 0.0574, -0.1615,  0.0173,  ..., -0.0199, -0.0464, -0.0061],\n",
       "       dtype=torch.float64)"
      ]
     },
     "execution_count": 24,
     "metadata": {},
     "output_type": "execute_result"
    }
   ],
   "source": [
    "torch.mv(A, v.squeeze())"
   ]
  },
  {
   "cell_type": "code",
   "execution_count": null,
   "metadata": {},
   "outputs": [
    {
     "name": "stderr",
     "output_type": "stream",
     "text": [
      "/tmp/ipykernel_6696/4210752795.py:97: SparseEfficiencyWarning: CSR matrix format is required. Converting to CSR matrix.\n",
      "  z = scipy.sparse.linalg.spsolve_triangular(R, r, lower = False) # stores iM * res\n",
      "/tmp/ipykernel_6696/4210752795.py:98: SparseEfficiencyWarning: CSR matrix format is required. Converting to CSR matrix.\n",
      "  z = scipy.sparse.linalg.spsolve_triangular(R, z, lower = True)\n",
      "/tmp/ipykernel_6696/4210752795.py:116: SparseEfficiencyWarning: CSR matrix format is required. Converting to CSR matrix.\n",
      "  z = scipy.sparse.linalg.spsolve_triangular(R, r, lower = False)\n",
      "/tmp/ipykernel_6696/4210752795.py:117: SparseEfficiencyWarning: CSR matrix format is required. Converting to CSR matrix.\n",
      "  z = scipy.sparse.linalg.spsolve_triangular(R, z, lower = True)\n"
     ]
    },
    {
     "name": "stdout",
     "output_type": "stream",
     "text": [
      "0.9999999999999999\n",
      "0.4322792576474336\n",
      "0.31784042204030477\n",
      "0.2213000214533968\n",
      "0.1765828862994721\n",
      "0.11536377824396059\n",
      "0.09046656923900266\n",
      "0.07308811262479922\n",
      "0.06789777109103613\n",
      "0.06685455624447763\n",
      "0.06478468234251201\n",
      "0.05660423611654443\n",
      "0.03997037892936046\n",
      "0.03145213706030119\n",
      "0.03061408026865957\n",
      "0.03343089191878588\n",
      "0.034512423153779385\n",
      "0.033365414680004465\n",
      "0.032462422611333724\n",
      "0.03190029218766039\n",
      "0.030537073300393687\n",
      "0.03253716862915632\n",
      "0.03633477468635082\n",
      "0.03957843135169665\n",
      "0.04026640664781923\n",
      "0.036511124594164265\n",
      "0.03263090853499289\n",
      "0.03018931697235288\n",
      "0.032270313396693596\n",
      "0.037693695117320444\n",
      "0.037117108910798814\n",
      "0.033797921057595326\n",
      "0.0300172280346116\n",
      "0.02273599895747647\n",
      "0.018195828898683594\n",
      "0.01611194234968316\n",
      "0.014296294144472975\n",
      "0.012595601675322471\n",
      "0.010924740147586678\n",
      "0.008413738393726077\n",
      "0.00572038136496717\n",
      "0.0036385656637851404\n",
      "0.0025745901397117685\n",
      "0.0016103051985806808\n",
      "0.0010819760889160229\n",
      "0.0008553859280665473\n",
      "0.0007649369366609124\n",
      "0.0007601680449791703\n",
      "0.0007964680049587664\n",
      "0.0008719151491963398\n",
      "0.0010165705330766302\n",
      "0.0011512121732294137\n",
      "0.0010246669477889227\n",
      "0.0007654733331284641\n",
      "0.0005396076780538721\n",
      "0.0003939826764229888\n",
      "0.0002958016801963178\n",
      "0.00020968915363802252\n",
      "0.00012530439363080565\n",
      "7.158531498001135e-05\n",
      "4.748272706490006e-05\n",
      "2.9427907820636032e-05\n",
      "1.7039572153702184e-05\n",
      "1.0293438196375257e-05\n",
      "6.393685229529577e-06\n",
      "4.005493066184184e-06\n",
      "2.3439985108884184e-06\n",
      "1.3262202704633399e-06\n",
      "7.39757592677595e-07\n",
      "4.762786551098661e-07\n",
      "2.817587218199594e-07\n",
      "1.7781123031012355e-07\n",
      "1.0684482458993734e-07\n",
      "6.822992852114628e-08\n",
      "3.413074971744509e-08\n",
      "1.787666010153175e-08\n",
      "1.0153520194382802e-08\n",
      "Finished in 77 iterations\n",
      "5.5616786193049675e-09\n"
     ]
    }
   ],
   "source": [
    "import scipy.linalg\n",
    "import random \n",
    "\n",
    "random.seed(90977)\n",
    "\n",
    "def cgd(A:scipy.sparse.csr_matrix, b:np.ndarray, tol = 1e-16):\n",
    "    \n",
    "    \n",
    "    x = b.copy()\n",
    "    d = b - A.dot(x)\n",
    "    res = b - A.dot(x)\n",
    "    res_norm = np.linalg.norm(res)\n",
    "\n",
    "    res_arr = [res_norm]\n",
    "    count = 0\n",
    "    while(res_norm > tol):\n",
    "        print(res_arr[-1])\n",
    "        res_old = res.copy()\n",
    "        alpha = res.dot(res)/ d.dot((A.dot(d)))\n",
    "        x = x + alpha * d\n",
    "        res = b - A.dot(d)\n",
    "        beta = res.dot(res)/(res_old.dot(res_old))\n",
    "        d = res + beta * d\n",
    "\n",
    "        res_norm = scipy.linalg.norm(res) \n",
    "        res_arr = res_arr + [res_norm]\n",
    "        count += 1\n",
    "    \n",
    "    print(f\"Finished in {count} iterations\")\n",
    "    return res_arr, x\n",
    "\n",
    "\n",
    "def neural_cgd(A:scipy.sparse.csr_matrix, b:np.ndarray, tol = 1e-16):\n",
    "    pass\n",
    "\n",
    "def pcgd(A:scipy.sparse.csr_matrix, iM:scipy.sparse.csr_matrix,b:np.ndarray,tol = 1e-10, max_it = 3e5):\n",
    "    # solve P^T A P (iPx) = P^T b\n",
    "    # M^-1 = P * P^T\n",
    "    \n",
    "    x = np.zeros(len(b))\n",
    "    res = b.copy()\n",
    "    res_ = iM.dot(res) # stores iM * res\n",
    "    res_old = res.copy()\n",
    "    res_old_ = res_.copy() # stores iM * res_old\n",
    "    d = res_.copy()\n",
    "\n",
    "    count = 0\n",
    "    res_norm = np.linalg.norm(res_)\n",
    "    res_arr = [res_norm]\n",
    "\n",
    "\n",
    "    while(res_norm > tol and count < max_it):\n",
    "        # print(res_arr[-1])\n",
    "        alpha = res.dot(res_)/d.dot(A.dot(d))\n",
    "        x = x + alpha * d\n",
    "        \n",
    "        res_old = res.copy()\n",
    "        res_old_ = res_.copy()\n",
    "        res = res_old - alpha * A.dot(d)\n",
    "        res_ = iM.dot(res)\n",
    "\n",
    "        beta = res.dot(res_) / res_old.dot(res_old_)\n",
    "        d_old = d.copy()\n",
    "        d = res_ + beta * d\n",
    "        print(res_norm)\n",
    "        res_norm = scipy.linalg.norm(res)\n",
    "        res_arr = res_arr + [res_norm]\n",
    "        \n",
    "        count+=1\n",
    "\n",
    "    print(f\"Finished in {count} iterations\")\n",
    "    return res_arr, x\n",
    "\n",
    "def icholesky(a):\n",
    "    n = a.shape[0]\n",
    "    for k in range(n): \n",
    "        a[k,k] = np.sqrt(a[k,k])\n",
    "        i_, = a[k+1:,k].nonzero() \n",
    "        if len(i_) > 0:\n",
    "            i_= i_ + (k+1)\n",
    "            a[i_,k] = a[i_,k]/a[k,k]\n",
    "        for j in i_: \n",
    "            i2_, = a[j:n,j].nonzero()\n",
    "            if len(i2_) > 0:\n",
    "                i2_ = i2_ + j\n",
    "                a[i2_,j]  = a[i2_,j] - a[i2_,k]*a[j,k]   \n",
    "        \n",
    "    return a\n",
    "\n",
    "\n",
    "def pcgd_backsolve(A:scipy.sparse.csr_matrix, R:scipy.sparse.csr_matrix,b:np.ndarray,tol = 1e-10, max_it = 3e5):\n",
    "    # solve P^T A P (iPx) = P^T b\n",
    "    # R^-1 = P * P^T\n",
    "    \n",
    "    x = np.zeros(len(b))\n",
    "    r = b.copy()\n",
    "    z = scipy.sparse.linalg.spsolve_triangular(R, r, lower = False) # stores iM * res\n",
    "    z = scipy.sparse.linalg.spsolve_triangular(R, z, lower = True)\n",
    "    r_old = r.copy()\n",
    "    z_old = z.copy() # stores iM * res_old\n",
    "    d = z.copy()\n",
    "\n",
    "    count = 0\n",
    "    res_norm = np.linalg.norm(r)\n",
    "    res_arr = [res_norm]\n",
    "\n",
    "    while(res_norm > tol and count < max_it):\n",
    "        # print(res_arr[-1])\n",
    "        alpha = r.dot(z)/d.dot(A.dot(d))\n",
    "        x = x + alpha * d\n",
    "        \n",
    "        r_old = r.copy()\n",
    "        z_old = z.copy()\n",
    "        r = r_old - alpha * A.dot(d) # A.dot gives a matrix-vector product in this case\n",
    "        # R backsolve\n",
    "        z = scipy.sparse.linalg.spsolve_triangular(R, r, lower = False) \n",
    "        z = scipy.sparse.linalg.spsolve_triangular(R, z, lower = True)\n",
    "\n",
    "        beta = r.dot(z) / r_old.dot(z_old)\n",
    "        d = z + beta * d\n",
    "        print(res_norm)\n",
    "        res_norm = scipy.linalg.norm(r)\n",
    "        res_arr = res_arr + [res_norm]\n",
    "        \n",
    "        count+=1\n",
    "\n",
    "    print(f\"Finished in {count} iterations\")\n",
    "    return res_arr, x\n",
    "\n",
    "\n",
    "    \n",
    "\n",
    "matrix_fn = \"A_matrix_4_4_32\"\n",
    "# generate A and b\n",
    "A = scipy.sparse.load_npz(f\"{matrix_fn}.npz\").tocsr()\n",
    "training_vectors = np.load(f\"{matrix_fn}_training.npy\")\n",
    "idx = random.randint(0,training_vectors.shape[0] - 1)\n",
    "b = training_vectors[idx,:]\n",
    "\n",
    "\n",
    "# generate jacobi preconditioner\n",
    "diag_A = np.sqrt(A.diagonal())\n",
    "diag_A = scipy.sparse.diags(diag_A).tocsc()\n",
    "iM = diag_A.copy()\n",
    "iM.data = 1/diag_A.data\n",
    "# generate IC preconditioner\n",
    "\n",
    "# M = np.tril(icholesky(A.toarray()))\n",
    "# M = scipy.sparse.csr_matrix(M)\n",
    "\n",
    "res_arr, x = pcgd_backsolve(A,b = b, R = diag_A, tol = 1e-8)\n",
    "print(np.linalg.norm(b - A @ x)) \n",
    "# res_arr, x = cgd(pA, b.copy())\n",
    "\n",
    "# # condition A\n",
    "# diag_A = A.diagonal()\n",
    "# diag_A = scipy.sparse.diags(diag_A)\n",
    "# idiag_A = diag_A.copy()\n",
    "# idiag_A.data = 1/idiag_A.data\n",
    "\n",
    "# pA = diag_A.multiply(A.multiply(idiag_A))\n",
    "\n"
   ]
  },
  {
   "cell_type": "code",
   "execution_count": 11,
   "metadata": {},
   "outputs": [
    {
     "name": "stdout",
     "output_type": "stream",
     "text": [
      "[ 3 -2]\n"
     ]
    }
   ],
   "source": [
    "G = np.array([[1, 1],[0, -1]])\n",
    "g = np.array([1, 2])\n",
    "print(G.dot(g))"
   ]
  },
  {
   "cell_type": "code",
   "execution_count": 48,
   "metadata": {},
   "outputs": [
    {
     "name": "stdout",
     "output_type": "stream",
     "text": [
      "1.0\n"
     ]
    }
   ],
   "source": [
    "print(np.linalg.cond(iM.multiply(A).todense(), 2))"
   ]
  },
  {
   "cell_type": "code",
   "execution_count": 22,
   "metadata": {},
   "outputs": [
    {
     "data": {
      "text/plain": [
       "[<matplotlib.lines.Line2D at 0x7f1dc6499690>]"
      ]
     },
     "execution_count": 22,
     "metadata": {},
     "output_type": "execute_result"
    },
    {
     "data": {
      "image/png": "[encoded data removed]",
      "text/plain": [
       "<Figure size 640x480 with 1 Axes>"
      ]
     },
     "metadata": {},
     "output_type": "display_data"
    }
   ],
   "source": [
    "import matplotlib.pyplot as plt\n",
    "plt.plot(np.log(res_arr))"
   ]
  },
  {
   "cell_type": "code",
   "execution_count": 66,
   "metadata": {},
   "outputs": [
    {
     "name": "stderr",
     "output_type": "stream",
     "text": [
      "/tmp/ipykernel_17891/2776222686.py:1: SparseEfficiencyWarning: spilu converted its input to CSC format\n",
      "  M_inverse=scipy.sparse.linalg.spilu(A)\n"
     ]
    }
   ],
   "source": [
    "M_inverse=scipy.sparse.linalg.spilu(A)\n",
    "M2=scipy.sparse.linalg.LinearOperator(A.shape,M_inverse.solve)\n",
    "sol=scipy.sparse.linalg.cg(A,b,M = M2)\n",
    "\n",
    "sol = scipy.sparse.linalg.cg(A = A, b = b, rtol = 1e-16, maxiter = 50000)\n",
    "# sol = scipy.sparse.linalg.gmres(A = A, b = b, x0 = b, rtol = 1e-16, M = diag_A)"
   ]
  },
  {
   "cell_type": "code",
   "execution_count": 63,
   "metadata": {},
   "outputs": [
    {
     "name": "stdout",
     "output_type": "stream",
     "text": [
      "0.055266941087814464\n"
     ]
    },
    {
     "name": "stderr",
     "output_type": "stream",
     "text": [
      "/tmp/ipykernel_17891/3454406662.py:1: LinAlgWarning: Ill-conditioned matrix (rcond=3.76928e-18): result may not be accurate.\n",
      "  x = scipy.linalg.solve(iM.toarray() @ A.toarray(), iM.toarray()  @ b)\n"
     ]
    }
   ],
   "source": [
    "x = scipy.linalg.solve(iM.toarray() @ A.toarray(), iM.toarray()  @ b)\n",
    "print(np.linalg.norm(( b - A.dot(x))))\n"
   ]
  },
  {
   "cell_type": "code",
   "execution_count": 65,
   "metadata": {},
   "outputs": [
    {
     "name": "stdout",
     "output_type": "stream",
     "text": [
      "(array([9.94056146e+13, 9.94056146e+13, 9.94056146e+13, 9.94056146e+13,\n",
      "       9.94056146e+13, 9.94056146e+13, 9.94056146e+13, 9.94056146e+13,\n",
      "       9.94056146e+13, 9.94056146e+13, 9.94056146e+13, 9.94056146e+13,\n",
      "       9.94056146e+13, 9.94056146e+13, 9.94056146e+13, 9.94056146e+13,\n",
      "       9.94056146e+13, 9.94056146e+13, 9.94056146e+13, 9.94056146e+13,\n",
      "       9.94056146e+13, 9.94056146e+13, 9.94056146e+13, 9.94056146e+13,\n",
      "       9.94056146e+13, 9.94056146e+13, 9.94056146e+13]), 50000)\n"
     ]
    }
   ],
   "source": [
    "print(sol)\n",
    "x = sol[0]"
   ]
  },
  {
   "cell_type": "code",
   "execution_count": 58,
   "metadata": {},
   "outputs": [
    {
     "name": "stdout",
     "output_type": "stream",
     "text": [
      "35.23964850847612\n",
      "0.9565135516648643\n"
     ]
    }
   ],
   "source": [
    "print(np.linalg.norm(( b - A.dot(x))))\n",
    "print(b.dot(A * b))"
   ]
  },
  {
   "cell_type": "code",
   "execution_count": 74,
   "metadata": {},
   "outputs": [],
   "source": [
    "lx,ly,lz = 8, 8, 8\n",
    "\n",
    "rho = 1\n",
    "dt = 1\n",
    "dx = 1\n",
    "A = None\n",
    "sA = None\n",
    "\n",
    "\n",
    "# helpers\n",
    "def grid_to_row_col(i:int,j:int,k:int) -> int:\n",
    "    return i + lx * j + lx * ly * k\n",
    "def is_boundary(i, j, k): # check if cell belongs to the boundary\n",
    "    if(i == -1 or i == lx or j == -1 or j == ly or k == -1 or k == lz):\n",
    "        return True\n",
    "    \n",
    "    return False\n",
    "\n",
    "\n",
    "# initialize A matrix      \n",
    "A = np.zeros((lx * ly * lz, lx * ly * lz))\n",
    "\n",
    "# iterate over all points in 3d grid\n",
    "for k in range(0, lz):\n",
    "    for j in range(0, ly):\n",
    "        for i in range(0, lx):\n",
    "            row = grid_to_row_col(i, j, k)\n",
    "            col = row\n",
    "            A[row, col] = 6\n",
    "            \n",
    "            # impose neumann boundary conditions\n",
    "            if(not is_boundary(i + 1, j, k)):\n",
    "                A[row, grid_to_row_col(i + 1, j, k)] = -1\n",
    "            else:\n",
    "                A[row,col] -= 1\n",
    "\n",
    "            if(not is_boundary(i - 1, j, k)):\n",
    "                A[row, grid_to_row_col(i - 1, j, k)] = -1\n",
    "            else:\n",
    "                A[row,col] -= 1\n",
    "\n",
    "            if(not is_boundary(i, j + 1, k)):\n",
    "                A[row, grid_to_row_col(i, j + 1, k)] = -1\n",
    "            else:\n",
    "                A[row,col] -= 1\n",
    "\n",
    "            if(not is_boundary(i, j - 1, k)):\n",
    "                A[row, grid_to_row_col(i, j - 1, k)] = -1\n",
    "            else:\n",
    "                A[row,col] -= 1\n",
    "            \n",
    "            if(not is_boundary(i, j, k + 1)):\n",
    "                A[row, grid_to_row_col(i, j, k + 1)] = -1\n",
    "            else:\n",
    "                A[row,col] -= 1\n",
    "            \n",
    "            if(not is_boundary(i, j, k - 1)):\n",
    "                A[row, grid_to_row_col(i, j, k - 1)] = -1\n",
    "            else:\n",
    "                A[row,col] -= 1\n",
    "\n",
    "\n",
    "# # iterate over all points in 3d grid\n",
    "# for k in range(0, lz):\n",
    "#     for j in range(0, ly):\n",
    "#         for i in range(0, lx):\n",
    "#             row = grid_to_row_col(i, j, k)\n",
    "#             col = row\n",
    "#             A[row, col] = 6\n",
    "            \n",
    "#             # impose neumann boundary conditions\n",
    "#             if(not is_boundary(i + 1, j, k)):\n",
    "#                 A[row, grid_to_row_col(i + 1, j, k)] = -1\n",
    "#             else:\n",
    "#                 A[row,grid_to_row_col(i - 1, j, k)] = -2\n",
    "\n",
    "#             if(not is_boundary(i - 1, j, k)):\n",
    "#                 A[row, grid_to_row_col(i - 1, j, k)] = -1\n",
    "#             else:\n",
    "#                 A[row,grid_to_row_col(i + 1, j, k)] = -2\n",
    "\n",
    "#             if(not is_boundary(i, j + 1, k)):\n",
    "#                 A[row, grid_to_row_col(i, j + 1, k)] = -1\n",
    "#             else:\n",
    "#                 A[row, grid_to_row_col(i, j - 1, k)] = -2\n",
    "\n",
    "#             if(not is_boundary(i, j - 1, k)):\n",
    "#                 A[row, grid_to_row_col(i, j - 1, k)] = -1\n",
    "#             else:\n",
    "#                 A[row, grid_to_row_col(i, j + 1, k)] = -2\n",
    "\n",
    "#             if(not is_boundary(i, j, k + 1)):\n",
    "#                 A[row, grid_to_row_col(i, j, k + 1)] = -1\n",
    "#             else:\n",
    "#                 A[row, grid_to_row_col(i, j, k - 1)] = -2\n",
    "            \n",
    "#             if(not is_boundary(i, j, k - 1)):\n",
    "#                 A[row, grid_to_row_col(i, j, k - 1)] = -1\n",
    "#             else:\n",
    "#                 A[row, grid_to_row_col(i, j, k + 1)] = -2\n",
    "\n",
    "\n"
   ]
  },
  {
   "cell_type": "code",
   "execution_count": 77,
   "metadata": {},
   "outputs": [
    {
     "data": {
      "text/plain": [
       "Text(0.5, 1.0, 'Eigenvalues of A')"
      ]
     },
     "execution_count": 77,
     "metadata": {},
     "output_type": "execute_result"
    },
    {
     "data": {
      "image/png": "[encoded data removed]",
      "text/plain": [
       "<Figure size 640x480 with 1 Axes>"
      ]
     },
     "metadata": {},
     "output_type": "display_data"
    }
   ],
   "source": [
    "import scipy.linalg\n",
    "import matplotlib.pyplot as plt\n",
    "Ae, Av = map(np.real, scipy.linalg.eig(A))\n",
    "# reorder eigen values \n",
    "ind = np.argsort(Ae)\n",
    "nullspace = Av[:, 0]/np.linalg.norm(Av[:, 0])\n",
    "Ae, Av = Ae[ind], Av.T[ind, :] # the rows are now eigenvectors\n",
    "Ae, Av = Ae[1:], Av[1:]\n",
    "Av = Av - np.outer((Av @ nullspace), nullspace)\n",
    "\n",
    "plt.plot(Ae)\n",
    "plt.title(\"Eigenvalues of A\")"
   ]
  },
  {
   "cell_type": "code",
   "execution_count": 78,
   "metadata": {},
   "outputs": [
    {
     "name": "stdout",
     "output_type": "stream",
     "text": [
      "0 vectors generated\n",
      "100 vectors generated\n",
      "200 vectors generated\n",
      "300 vectors generated\n",
      "400 vectors generated\n",
      "500 vectors generated\n",
      "600 vectors generated\n",
      "700 vectors generated\n",
      "800 vectors generated\n",
      "900 vectors generated\n",
      "1000 vectors generated\n",
      "1100 vectors generated\n",
      "1200 vectors generated\n",
      "1300 vectors generated\n",
      "1400 vectors generated\n",
      "1500 vectors generated\n",
      "1600 vectors generated\n",
      "1700 vectors generated\n",
      "1800 vectors generated\n",
      "1900 vectors generated\n",
      "2000 vectors generated\n",
      "2100 vectors generated\n",
      "2200 vectors generated\n",
      "2300 vectors generated\n",
      "2400 vectors generated\n",
      "2500 vectors generated\n",
      "2600 vectors generated\n",
      "2700 vectors generated\n",
      "2800 vectors generated\n",
      "2900 vectors generated\n",
      "3000 vectors generated\n",
      "3100 vectors generated\n",
      "3200 vectors generated\n",
      "3300 vectors generated\n",
      "3400 vectors generated\n",
      "3500 vectors generated\n",
      "3600 vectors generated\n",
      "3700 vectors generated\n",
      "3800 vectors generated\n",
      "3900 vectors generated\n",
      "4000 vectors generated\n",
      "4100 vectors generated\n",
      "4200 vectors generated\n",
      "4300 vectors generated\n",
      "4400 vectors generated\n",
      "4500 vectors generated\n",
      "4600 vectors generated\n",
      "4700 vectors generated\n",
      "4800 vectors generated\n",
      "4900 vectors generated\n",
      "5000 vectors generated\n",
      "5100 vectors generated\n",
      "5200 vectors generated\n",
      "5300 vectors generated\n",
      "5400 vectors generated\n",
      "5500 vectors generated\n",
      "5600 vectors generated\n",
      "5700 vectors generated\n",
      "5800 vectors generated\n",
      "5900 vectors generated\n",
      "6000 vectors generated\n",
      "6100 vectors generated\n",
      "6200 vectors generated\n",
      "6300 vectors generated\n",
      "6400 vectors generated\n",
      "6500 vectors generated\n",
      "6600 vectors generated\n",
      "6700 vectors generated\n",
      "6800 vectors generated\n",
      "6900 vectors generated\n",
      "7000 vectors generated\n",
      "7100 vectors generated\n",
      "7200 vectors generated\n",
      "7300 vectors generated\n",
      "7400 vectors generated\n",
      "7500 vectors generated\n",
      "7600 vectors generated\n",
      "7700 vectors generated\n",
      "7800 vectors generated\n",
      "7900 vectors generated\n",
      "8000 vectors generated\n",
      "8100 vectors generated\n",
      "8200 vectors generated\n",
      "8300 vectors generated\n",
      "8400 vectors generated\n",
      "8500 vectors generated\n",
      "8600 vectors generated\n",
      "8700 vectors generated\n",
      "8800 vectors generated\n",
      "8900 vectors generated\n",
      "9000 vectors generated\n",
      "9100 vectors generated\n",
      "9200 vectors generated\n",
      "9300 vectors generated\n",
      "9400 vectors generated\n",
      "9500 vectors generated\n",
      "9600 vectors generated\n",
      "9700 vectors generated\n",
      "9800 vectors generated\n",
      "9900 vectors generated\n",
      "10000 vectors generated\n",
      "10100 vectors generated\n",
      "10200 vectors generated\n",
      "10300 vectors generated\n",
      "10400 vectors generated\n",
      "10500 vectors generated\n",
      "10600 vectors generated\n",
      "10700 vectors generated\n",
      "10800 vectors generated\n",
      "10900 vectors generated\n",
      "11000 vectors generated\n",
      "11100 vectors generated\n",
      "11200 vectors generated\n",
      "11300 vectors generated\n",
      "11400 vectors generated\n",
      "11500 vectors generated\n",
      "11600 vectors generated\n",
      "11700 vectors generated\n",
      "11800 vectors generated\n",
      "11900 vectors generated\n",
      "12000 vectors generated\n",
      "12100 vectors generated\n",
      "12200 vectors generated\n",
      "12300 vectors generated\n",
      "12400 vectors generated\n",
      "12500 vectors generated\n",
      "12600 vectors generated\n",
      "12700 vectors generated\n",
      "12800 vectors generated\n",
      "12900 vectors generated\n",
      "13000 vectors generated\n",
      "13100 vectors generated\n",
      "13200 vectors generated\n",
      "13300 vectors generated\n",
      "13400 vectors generated\n",
      "13500 vectors generated\n",
      "13600 vectors generated\n",
      "13700 vectors generated\n",
      "13800 vectors generated\n",
      "13900 vectors generated\n",
      "14000 vectors generated\n",
      "14100 vectors generated\n",
      "14200 vectors generated\n",
      "14300 vectors generated\n",
      "14400 vectors generated\n",
      "14500 vectors generated\n",
      "14600 vectors generated\n",
      "14700 vectors generated\n",
      "14800 vectors generated\n",
      "14900 vectors generated\n",
      "15000 vectors generated\n",
      "15100 vectors generated\n",
      "15200 vectors generated\n",
      "15300 vectors generated\n",
      "15400 vectors generated\n",
      "15500 vectors generated\n",
      "15600 vectors generated\n",
      "15700 vectors generated\n",
      "15800 vectors generated\n",
      "15900 vectors generated\n",
      "16000 vectors generated\n",
      "16100 vectors generated\n",
      "16200 vectors generated\n",
      "16300 vectors generated\n",
      "16400 vectors generated\n",
      "16500 vectors generated\n",
      "16600 vectors generated\n",
      "16700 vectors generated\n",
      "16800 vectors generated\n",
      "16900 vectors generated\n",
      "17000 vectors generated\n",
      "17100 vectors generated\n",
      "17200 vectors generated\n",
      "17300 vectors generated\n",
      "17400 vectors generated\n",
      "17500 vectors generated\n",
      "17600 vectors generated\n",
      "17700 vectors generated\n",
      "17800 vectors generated\n",
      "17900 vectors generated\n",
      "18000 vectors generated\n",
      "18100 vectors generated\n",
      "18200 vectors generated\n",
      "18300 vectors generated\n",
      "18400 vectors generated\n",
      "18500 vectors generated\n",
      "18600 vectors generated\n",
      "18700 vectors generated\n",
      "18800 vectors generated\n",
      "18900 vectors generated\n",
      "19000 vectors generated\n",
      "19100 vectors generated\n",
      "19200 vectors generated\n",
      "19300 vectors generated\n",
      "19400 vectors generated\n",
      "19500 vectors generated\n",
      "19600 vectors generated\n",
      "19700 vectors generated\n",
      "19800 vectors generated\n",
      "19900 vectors generated\n"
     ]
    }
   ],
   "source": [
    "import scipy.stats\n",
    "\n",
    "num_vectors = 20000 # training vectors\n",
    "theta = 65\n",
    "m = 8 * 8 * 8 - 1\n",
    "\n",
    "coeff_set = np.zeros((num_vectors, m))\n",
    "for i in range(num_vectors):\n",
    "   \n",
    "    cutoff = int(m * 0.5 + theta)\n",
    "    loc = 0\n",
    "    scale = 1\n",
    "\n",
    "    x_large = 9 * scipy.stats.norm.rvs(loc, scale, cutoff) \n",
    "    x = scipy.stats.norm.rvs(loc, scale, int(m - cutoff)) \n",
    "\n",
    "    coeff = np.concatenate((x_large, x))\n",
    "    coeff_set[i, :] = coeff    \n",
    "    if(i % 100 == 0):\n",
    "        print(f\"{i} vectors generated\")"
   ]
  },
  {
   "cell_type": "code",
   "execution_count": 79,
   "metadata": {},
   "outputs": [],
   "source": [
    "import scipy.linalg\n",
    "\n",
    "\n",
    "training_vectors = coeff_set @ Av  # generate training vectors from coefficients, shape [num_samples, dim(x)]\n",
    "\n",
    "# normalize training vectors\n",
    "training_vectors = np.diag(1 / scipy.linalg.norm(training_vectors, ord = 2, axis = 1)) @ training_vectors\n"
   ]
  },
  {
   "cell_type": "code",
   "execution_count": 81,
   "metadata": {},
   "outputs": [],
   "source": [
    "def incomplete_cholesky(A):\n",
    "    E = np.zeros(A.shape)\n",
    "    n = A.shape[0]\n",
    "\n",
    "    for k in range(n - 1):\n",
    "        E[k, k] = np.sqrt(A[k,k])\n",
    "        for j in range(k + 1, n):\n",
    "            E[j, k] = A[k, j]/E[k, k]\n",
    "        \n",
    "\n",
    "        for i in range(k + 1, n):\n",
    "            for j in range(i, n):\n",
    "                if(A[i, j] != 0):\n",
    "                    A[i, j] = A[i, j] - E[k, i] * E[k, j]\n",
    "                \n",
    "    E[-1, -1] = np.sqrt(A[-1, -1])    \n",
    "    return E\n",
    "\n",
    "# E = incomplete_cholesky(A.copy())\n",
    "# E = np.tril(icholesky(A.copy()))\n"
   ]
  },
  {
   "cell_type": "code",
   "execution_count": 82,
   "metadata": {},
   "outputs": [
    {
     "name": "stdout",
     "output_type": "stream",
     "text": [
      "3.4015804967471515\n",
      "18.767134675210922\n",
      "442.46838029031613\n",
      "243053.03260814917\n",
      "73338029814.79736\n",
      "6.677065363542585e+21\n",
      "5.534755055430229e+43\n",
      "3.8029793001074102e+87\n",
      "1.7954572678618288e+175\n"
     ]
    },
    {
     "ename": "ValueError",
     "evalue": "array must not contain infs or NaNs",
     "output_type": "error",
     "traceback": [
      "\u001b[0;31m---------------------------------------------------------------------------\u001b[0m",
      "\u001b[0;31mValueError\u001b[0m                                Traceback (most recent call last)",
      "Cell \u001b[0;32mIn[82], line 14\u001b[0m\n\u001b[1;32m     12\u001b[0m M \u001b[38;5;241m=\u001b[39m np\u001b[38;5;241m.\u001b[39mtril(incomplete_cholesky(sA\u001b[38;5;241m.\u001b[39mtoarray()))\n\u001b[1;32m     13\u001b[0m M \u001b[38;5;241m=\u001b[39m scipy\u001b[38;5;241m.\u001b[39msparse\u001b[38;5;241m.\u001b[39mcsr_matrix(M)\n\u001b[0;32m---> 14\u001b[0m res_arr, x \u001b[38;5;241m=\u001b[39m \u001b[43mcgd\u001b[49m\u001b[43m(\u001b[49m\u001b[43mA\u001b[49m\u001b[43m,\u001b[49m\u001b[43m \u001b[49m\u001b[43mb\u001b[49m\u001b[43m \u001b[49m\u001b[38;5;241;43m=\u001b[39;49m\u001b[43m \u001b[49m\u001b[43mb\u001b[49m\u001b[43m)\u001b[49m\n\u001b[1;32m     17\u001b[0m \u001b[38;5;66;03m# res_arr, x = pcgd(sA, iM, b, tol=1e-16)\u001b[39;00m\n",
      "Cell \u001b[0;32mIn[71], line 25\u001b[0m, in \u001b[0;36mcgd\u001b[0;34m(A, b, tol)\u001b[0m\n\u001b[1;32m     22\u001b[0m beta \u001b[38;5;241m=\u001b[39m res\u001b[38;5;241m.\u001b[39mdot(res)\u001b[38;5;241m/\u001b[39m(res_old\u001b[38;5;241m.\u001b[39mdot(res_old))\n\u001b[1;32m     23\u001b[0m d \u001b[38;5;241m=\u001b[39m res \u001b[38;5;241m+\u001b[39m beta \u001b[38;5;241m*\u001b[39m d\n\u001b[0;32m---> 25\u001b[0m res_norm \u001b[38;5;241m=\u001b[39m \u001b[43mscipy\u001b[49m\u001b[38;5;241;43m.\u001b[39;49m\u001b[43mlinalg\u001b[49m\u001b[38;5;241;43m.\u001b[39;49m\u001b[43mnorm\u001b[49m\u001b[43m(\u001b[49m\u001b[43mres\u001b[49m\u001b[43m)\u001b[49m \n\u001b[1;32m     26\u001b[0m res_arr \u001b[38;5;241m=\u001b[39m res_arr \u001b[38;5;241m+\u001b[39m [res_norm]\n\u001b[1;32m     27\u001b[0m count \u001b[38;5;241m+\u001b[39m\u001b[38;5;241m=\u001b[39m \u001b[38;5;241m1\u001b[39m\n",
      "File \u001b[0;32m~/.local/lib/python3.10/site-packages/scipy/linalg/_misc.py:146\u001b[0m, in \u001b[0;36mnorm\u001b[0;34m(a, ord, axis, keepdims, check_finite)\u001b[0m\n\u001b[1;32m    144\u001b[0m \u001b[38;5;66;03m# Differs from numpy only in non-finite handling and the use of blas.\u001b[39;00m\n\u001b[1;32m    145\u001b[0m \u001b[38;5;28;01mif\u001b[39;00m check_finite:\n\u001b[0;32m--> 146\u001b[0m     a \u001b[38;5;241m=\u001b[39m \u001b[43mnp\u001b[49m\u001b[38;5;241;43m.\u001b[39;49m\u001b[43masarray_chkfinite\u001b[49m\u001b[43m(\u001b[49m\u001b[43ma\u001b[49m\u001b[43m)\u001b[49m\n\u001b[1;32m    147\u001b[0m \u001b[38;5;28;01melse\u001b[39;00m:\n\u001b[1;32m    148\u001b[0m     a \u001b[38;5;241m=\u001b[39m np\u001b[38;5;241m.\u001b[39masarray(a)\n",
      "File \u001b[0;32m/usr/local/lib/python3.10/dist-packages/numpy/lib/function_base.py:627\u001b[0m, in \u001b[0;36masarray_chkfinite\u001b[0;34m(a, dtype, order)\u001b[0m\n\u001b[1;32m    625\u001b[0m a \u001b[38;5;241m=\u001b[39m asarray(a, dtype\u001b[38;5;241m=\u001b[39mdtype, order\u001b[38;5;241m=\u001b[39morder)\n\u001b[1;32m    626\u001b[0m \u001b[38;5;28;01mif\u001b[39;00m a\u001b[38;5;241m.\u001b[39mdtype\u001b[38;5;241m.\u001b[39mchar \u001b[38;5;129;01min\u001b[39;00m typecodes[\u001b[38;5;124m'\u001b[39m\u001b[38;5;124mAllFloat\u001b[39m\u001b[38;5;124m'\u001b[39m] \u001b[38;5;129;01mand\u001b[39;00m \u001b[38;5;129;01mnot\u001b[39;00m np\u001b[38;5;241m.\u001b[39misfinite(a)\u001b[38;5;241m.\u001b[39mall():\n\u001b[0;32m--> 627\u001b[0m     \u001b[38;5;28;01mraise\u001b[39;00m \u001b[38;5;167;01mValueError\u001b[39;00m(\n\u001b[1;32m    628\u001b[0m         \u001b[38;5;124m\"\u001b[39m\u001b[38;5;124marray must not contain infs or NaNs\u001b[39m\u001b[38;5;124m\"\u001b[39m)\n\u001b[1;32m    629\u001b[0m \u001b[38;5;28;01mreturn\u001b[39;00m a\n",
      "\u001b[0;31mValueError\u001b[0m: array must not contain infs or NaNs"
     ]
    }
   ],
   "source": [
    "sA = scipy.sparse.csr_matrix(A)\n",
    "idx = random.randint(0,training_vectors.shape[0] - 1) + 16\n",
    "b = training_vectors[idx,:]\n",
    "\n",
    "# generate jacobi conditioner\n",
    "diag_A = sA.diagonal()\n",
    "diag_A = scipy.sparse.diags(diag_A)\n",
    "iM = diag_A.copy()\n",
    "iM.data = 1/diag_A.data\n",
    "\n",
    "# generate IC preconditioner\n",
    "M = np.tril(incomplete_cholesky(sA.toarray()))\n",
    "M = scipy.sparse.csr_matrix(M)\n",
    "res_arr, x = cgd(A, b = b)\n",
    "\n",
    "\n",
    "# res_arr, x = pcgd(sA, iM, b, tol=1e-16)"
   ]
  },
  {
   "cell_type": "code",
   "execution_count": 11,
   "metadata": {},
   "outputs": [
    {
     "data": {
      "text/plain": [
       "(216, 216)"
      ]
     },
     "execution_count": 11,
     "metadata": {},
     "output_type": "execute_result"
    }
   ],
   "source": [
    "A.shape"
   ]
  },
  {
   "cell_type": "code",
   "execution_count": 160,
   "metadata": {},
   "outputs": [
    {
     "name": "stdout",
     "output_type": "stream",
     "text": [
      "6.456672944167816e-15\n"
     ]
    },
    {
     "data": {
      "text/plain": [
       "[<matplotlib.lines.Line2D at 0x7f43743cb7f0>]"
      ]
     },
     "execution_count": 160,
     "metadata": {},
     "output_type": "execute_result"
    },
    {
     "data": {
      "image/png": "[encoded data removed]",
      "text/plain": [
       "<Figure size 640x480 with 1 Axes>"
      ]
     },
     "metadata": {},
     "output_type": "display_data"
    }
   ],
   "source": [
    "print(np.linalg.norm((b - sA.dot(x))))\n",
    "plt.plot(res_arr)"
   ]
  },
  {
   "cell_type": "code",
   "execution_count": 170,
   "metadata": {},
   "outputs": [],
   "source": [
    "sol = scipy.sparse.linalg.cg(A = sA, b = b, rtol = 1e-16, M = iM)"
   ]
  },
  {
   "cell_type": "code",
   "execution_count": null,
   "metadata": {},
   "outputs": [
    {
     "name": "stdout",
     "output_type": "stream",
     "text": [
      "6.1554036926363636e-15\n"
     ]
    }
   ],
   "source": [
    "print(b - A.dot(sol[0]))"
   ]
  },
  {
   "cell_type": "markdown",
   "metadata": {},
   "source": [
    "## Model Evaluation"
   ]
  },
  {
   "cell_type": "code",
   "execution_count": 175,
   "metadata": {},
   "outputs": [],
   "source": [
    "import torch"
   ]
  },
  {
   "cell_type": "code",
   "execution_count": 176,
   "metadata": {},
   "outputs": [
    {
     "name": "stderr",
     "output_type": "stream",
     "text": [
      "/tmp/ipykernel_24378/1717693318.py:3: FutureWarning: You are using `torch.load` with `weights_only=False` (the current default value), which uses the default pickle module implicitly. It is possible to construct malicious pickle data which will execute arbitrary code during unpickling (See https://github.com/pytorch/pytorch/blob/main/SECURITY.md#untrusted-models for more details). In a future release, the default value for `weights_only` will be flipped to `True`. This limits the functions that could be executed during unpickling. Arbitrary objects will no longer be allowed to be loaded via this mode unless they are explicitly allowlisted by the user via `torch.serialization.add_safe_globals`. We recommend you start setting `weights_only=True` for any use case where you don't have full control of the loaded file. Please open an issue on GitHub for any issues related to this experimental feature.\n",
      "  model = torch.load(models_dir + model_fn)\n"
     ]
    },
    {
     "ename": "AttributeError",
     "evalue": "Can't get attribute 'CNN' on <module '__main__'>",
     "output_type": "error",
     "traceback": [
      "\u001b[0;31m---------------------------------------------------------------------------\u001b[0m",
      "\u001b[0;31mAttributeError\u001b[0m                            Traceback (most recent call last)",
      "Cell \u001b[0;32mIn[176], line 3\u001b[0m\n\u001b[1;32m      1\u001b[0m models_dir \u001b[38;5;241m=\u001b[39m \u001b[38;5;124mf\u001b[39m\u001b[38;5;124m\"\u001b[39m\u001b[38;5;124m./models/\u001b[39m\u001b[38;5;124m\"\u001b[39m\n\u001b[1;32m      2\u001b[0m model_fn \u001b[38;5;241m=\u001b[39m \u001b[38;5;124m\"\u001b[39m\u001b[38;5;124m16_3_grid.pth\u001b[39m\u001b[38;5;124m\"\u001b[39m\n\u001b[0;32m----> 3\u001b[0m model \u001b[38;5;241m=\u001b[39m \u001b[43mtorch\u001b[49m\u001b[38;5;241;43m.\u001b[39;49m\u001b[43mload\u001b[49m\u001b[43m(\u001b[49m\u001b[43mmodels_dir\u001b[49m\u001b[43m \u001b[49m\u001b[38;5;241;43m+\u001b[39;49m\u001b[43m \u001b[49m\u001b[43mmodel_fn\u001b[49m\u001b[43m)\u001b[49m\n",
      "File \u001b[0;32m~/.local/lib/python3.10/site-packages/torch/serialization.py:1360\u001b[0m, in \u001b[0;36mload\u001b[0;34m(f, map_location, pickle_module, weights_only, mmap, **pickle_load_args)\u001b[0m\n\u001b[1;32m   1358\u001b[0m             \u001b[38;5;28;01mexcept\u001b[39;00m pickle\u001b[38;5;241m.\u001b[39mUnpicklingError \u001b[38;5;28;01mas\u001b[39;00m e:\n\u001b[1;32m   1359\u001b[0m                 \u001b[38;5;28;01mraise\u001b[39;00m pickle\u001b[38;5;241m.\u001b[39mUnpicklingError(_get_wo_message(\u001b[38;5;28mstr\u001b[39m(e))) \u001b[38;5;28;01mfrom\u001b[39;00m \u001b[38;5;28mNone\u001b[39m\n\u001b[0;32m-> 1360\u001b[0m         \u001b[38;5;28;01mreturn\u001b[39;00m \u001b[43m_load\u001b[49m\u001b[43m(\u001b[49m\n\u001b[1;32m   1361\u001b[0m \u001b[43m            \u001b[49m\u001b[43mopened_zipfile\u001b[49m\u001b[43m,\u001b[49m\n\u001b[1;32m   1362\u001b[0m \u001b[43m            \u001b[49m\u001b[43mmap_location\u001b[49m\u001b[43m,\u001b[49m\n\u001b[1;32m   1363\u001b[0m \u001b[43m            \u001b[49m\u001b[43mpickle_module\u001b[49m\u001b[43m,\u001b[49m\n\u001b[1;32m   1364\u001b[0m \u001b[43m            \u001b[49m\u001b[43moverall_storage\u001b[49m\u001b[38;5;241;43m=\u001b[39;49m\u001b[43moverall_storage\u001b[49m\u001b[43m,\u001b[49m\n\u001b[1;32m   1365\u001b[0m \u001b[43m            \u001b[49m\u001b[38;5;241;43m*\u001b[39;49m\u001b[38;5;241;43m*\u001b[39;49m\u001b[43mpickle_load_args\u001b[49m\u001b[43m,\u001b[49m\n\u001b[1;32m   1366\u001b[0m \u001b[43m        \u001b[49m\u001b[43m)\u001b[49m\n\u001b[1;32m   1367\u001b[0m \u001b[38;5;28;01mif\u001b[39;00m mmap:\n\u001b[1;32m   1368\u001b[0m     f_name \u001b[38;5;241m=\u001b[39m \u001b[38;5;124m\"\u001b[39m\u001b[38;5;124m\"\u001b[39m \u001b[38;5;28;01mif\u001b[39;00m \u001b[38;5;129;01mnot\u001b[39;00m \u001b[38;5;28misinstance\u001b[39m(f, \u001b[38;5;28mstr\u001b[39m) \u001b[38;5;28;01melse\u001b[39;00m \u001b[38;5;124mf\u001b[39m\u001b[38;5;124m\"\u001b[39m\u001b[38;5;132;01m{\u001b[39;00mf\u001b[38;5;132;01m}\u001b[39;00m\u001b[38;5;124m, \u001b[39m\u001b[38;5;124m\"\u001b[39m\n",
      "File \u001b[0;32m~/.local/lib/python3.10/site-packages/torch/serialization.py:1848\u001b[0m, in \u001b[0;36m_load\u001b[0;34m(zip_file, map_location, pickle_module, pickle_file, overall_storage, **pickle_load_args)\u001b[0m\n\u001b[1;32m   1846\u001b[0m \u001b[38;5;28;01mglobal\u001b[39;00m _serialization_tls\n\u001b[1;32m   1847\u001b[0m _serialization_tls\u001b[38;5;241m.\u001b[39mmap_location \u001b[38;5;241m=\u001b[39m map_location\n\u001b[0;32m-> 1848\u001b[0m result \u001b[38;5;241m=\u001b[39m \u001b[43munpickler\u001b[49m\u001b[38;5;241;43m.\u001b[39;49m\u001b[43mload\u001b[49m\u001b[43m(\u001b[49m\u001b[43m)\u001b[49m\n\u001b[1;32m   1849\u001b[0m _serialization_tls\u001b[38;5;241m.\u001b[39mmap_location \u001b[38;5;241m=\u001b[39m \u001b[38;5;28;01mNone\u001b[39;00m\n\u001b[1;32m   1851\u001b[0m torch\u001b[38;5;241m.\u001b[39m_utils\u001b[38;5;241m.\u001b[39m_validate_loaded_sparse_tensors()\n",
      "File \u001b[0;32m~/.local/lib/python3.10/site-packages/torch/serialization.py:1837\u001b[0m, in \u001b[0;36m_load.<locals>.UnpicklerWrapper.find_class\u001b[0;34m(self, mod_name, name)\u001b[0m\n\u001b[1;32m   1835\u001b[0m         \u001b[38;5;28;01mpass\u001b[39;00m\n\u001b[1;32m   1836\u001b[0m mod_name \u001b[38;5;241m=\u001b[39m load_module_mapping\u001b[38;5;241m.\u001b[39mget(mod_name, mod_name)\n\u001b[0;32m-> 1837\u001b[0m \u001b[38;5;28;01mreturn\u001b[39;00m \u001b[38;5;28;43msuper\u001b[39;49m\u001b[43m(\u001b[49m\u001b[43m)\u001b[49m\u001b[38;5;241;43m.\u001b[39;49m\u001b[43mfind_class\u001b[49m\u001b[43m(\u001b[49m\u001b[43mmod_name\u001b[49m\u001b[43m,\u001b[49m\u001b[43m \u001b[49m\u001b[43mname\u001b[49m\u001b[43m)\u001b[49m\n",
      "\u001b[0;31mAttributeError\u001b[0m: Can't get attribute 'CNN' on <module '__main__'>"
     ]
    }
   ],
   "source": [
    "models_dir = f\"./models/\"\n",
    "model_fn = \"16_3_grid.pth\"\n",
    "model = torch.load(models_dir + model_fn)"
   ]
  },
  {
   "cell_type": "code",
   "execution_count": 6,
   "metadata": {},
   "outputs": [
    {
     "data": {
      "text/plain": [
       "18.05248144524556"
      ]
     },
     "execution_count": 6,
     "metadata": {},
     "output_type": "execute_result"
    }
   ],
   "source": [
    "import numpy as np\n",
    "\n",
    "\n",
    "a = np.sum(np.square([4, 3, 15, 12, 4, 5, 11]))\n",
    "s = np.sum(np.square([108, 139, 135, 244, 172, 173, 56, 99]))\n",
    "\n",
    "np.sqrt(s/a)"
   ]
  },
  {
   "cell_type": "code",
   "execution_count": 2,
   "metadata": {},
   "outputs": [
    {
     "name": "stdout",
     "output_type": "stream",
     "text": [
      "odict_keys(['conv1.0.weight', 'conv1.0.bias', 'conv1.1.x_layer.weight', 'conv1.1.x_layer.bias', 'conv1.1.y_layer.weight', 'conv1.1.y_layer.bias', 'conv1.2.x_layer.weight', 'conv1.2.x_layer.bias', 'conv1.2.y_layer.weight', 'conv1.2.y_layer.bias', 'conv2.0.x_layer.weight', 'conv2.0.x_layer.bias', 'conv2.0.y_layer.weight', 'conv2.0.y_layer.bias', 'conv2.1.x_layer.weight', 'conv2.1.x_layer.bias', 'conv2.1.y_layer.weight', 'conv2.1.y_layer.bias', 'conv2.2.x_layer.weight', 'conv2.2.x_layer.bias', 'conv2.2.y_layer.weight', 'conv2.2.y_layer.bias', 'conv3.0.x_layer.weight', 'conv3.0.x_layer.bias', 'conv3.0.y_layer.weight', 'conv3.0.y_layer.bias', 'conv3.1.x_layer.weight', 'conv3.1.x_layer.bias', 'conv3.1.y_layer.weight', 'conv3.1.y_layer.bias', 'conv3.2.x_layer.weight', 'conv3.2.x_layer.bias', 'conv3.2.y_layer.weight', 'conv3.2.y_layer.bias', 'fc_layer.weight', 'fc_layer.bias', 'out_layer.weight', 'out_layer.bias'])\n"
     ]
    },
    {
     "name": "stderr",
     "output_type": "stream",
     "text": [
      "/tmp/ipykernel_118712/557463955.py:6: FutureWarning: You are using `torch.load` with `weights_only=False` (the current default value), which uses the default pickle module implicitly. It is possible to construct malicious pickle data which will execute arbitrary code during unpickling (See https://github.com/pytorch/pytorch/blob/main/SECURITY.md#untrusted-models for more details). In a future release, the default value for `weights_only` will be flipped to `True`. This limits the functions that could be executed during unpickling. Arbitrary objects will no longer be allowed to be loaded via this mode unless they are explicitly allowlisted by the user via `torch.serialization.add_safe_globals`. We recommend you start setting `weights_only=True` for any use case where you don't have full control of the loaded file. Please open an issue on GitHub for any issues related to this experimental feature.\n",
      "  model_state = torch.load(models_dir + model_fn)\n"
     ]
    }
   ],
   "source": [
    "import torch.nn\n",
    "import torchsummary\n",
    "\n",
    "models_dir = f\"./models/\"\n",
    "model_fn = \"8_8_8_grid_state_mod.pth\"\n",
    "model_state = torch.load(models_dir + model_fn)\n",
    "\n",
    "print(model_state.keys())"
   ]
  }
 ],
 "metadata": {
  "kernelspec": {
   "display_name": "Python 3",
   "language": "python",
   "name": "python3"
  },
  "language_info": {
   "codemirror_mode": {
    "name": "ipython",
    "version": 3
   },
   "file_extension": ".py",
   "mimetype": "text/x-python",
   "name": "python",
   "nbconvert_exporter": "python",
   "pygments_lexer": "ipython3",
   "version": "3.10.12"
  }
 },
 "nbformat": 4,
 "nbformat_minor": 2
}
